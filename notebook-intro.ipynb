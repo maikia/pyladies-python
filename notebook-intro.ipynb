{
 "cells": [
  {
   "cell_type": "markdown",
   "metadata": {
    "jp-MarkdownHeadingCollapsed": true,
    "tags": []
   },
   "source": [
    "<img src=\"https://raw.githubusercontent.com/maikia/pyladies-python/main/figs/pylady_simple_paris_2.png\" width=200 height=200 />\n",
    "\n",
    "# Programming in Python\n",
    "\n",
    "This course is based on the teaching materials prepared and presented by\n",
    "\n",
    "Maria and Bartosz Telenczuk\n",
    "\n",
    "**webpage**: https://github.com/maikia/pyladies-python"
   ]
  },
  {
   "cell_type": "markdown",
   "metadata": {},
   "source": [
    "# Quick introduction to Jupyter Notebook\n",
    "\n",
    "Jupyter Notebook is a Python editor which runs in your browser locally on your computer (ie does not require an internet connection).\n",
    "\n",
    "You will be able to see the results of your lines of code directly below the cell which you execute.\n",
    "\n",
    "to run Jupyter lap in your terminal type:\n",
    "`jupyter lab`\n",
    "\n",
    "alternatively you may want to run Jupyter notebook which is more advanced product of jupyter:\n",
    "`jupyter lab`\n",
    "\n",
    "**Esc** : takes you into command mode, there you can use:\n",
    "\n",
    "    a : insert a new cell above\n",
    "    b : insert a new cell below\n",
    "    m : change the current cell to Markdown\n",
    "    y : change the current cell to code\n",
    "    x : delete the current cell\n",
    "    z : undo your last cell operation\n",
    "    \n",
    "You can also use menus to perform those actions\n",
    "\n",
    "**Enter** : go back to edit mode\n",
    "\n",
    "**Shift + Enter** : execute the cell, move to the cell below\n",
    "\n",
    "**?** : help"
   ]
  },
  {
   "cell_type": "markdown",
   "metadata": {},
   "source": [
    "In the cells where you write Python code you can also write text. To do that you can use #"
   ]
  },
  {
   "cell_type": "code",
   "execution_count": 2,
   "metadata": {},
   "outputs": [],
   "source": [
    "# my comment is here"
   ]
  },
  {
   "cell_type": "markdown",
   "metadata": {},
   "source": [
    "This will be ignored by Python"
   ]
  },
  {
   "cell_type": "markdown",
   "metadata": {},
   "source": [
    "## References\n",
    "\n",
    "- Software Carpentry, [Python Novice inflammation](https://github.com/swcarpentry/python-novice-inflammation)\n",
    "- Paris Software Carpentry, [Advanced numpy lesson](https://paris-swc.github.io/advanced-numpy-lesson/)\n",
    "- Bartosz Teleńczuk, [Advanced Numpy tutorial](https://github.com/paris-saclay-cds/data-science-workshop-2019/blob/master/Day_1_Scientific_Python/01-numpy-introduction.ipynb)\n",
    "- Bartosz Teleńczuk, [Advanced NumPy lesson](https://github.com/paris-swc/advanced-numpy-lesson)\n",
    "- Gaël Varoquaux, Emmanuelle Gouillart and Olav Vahtras (editors), [SciPy Lectures\n",
    "NumPy community, NumPy Docs](http://scipy-lectures.org/)\n",
    "- Juan Nuñez-Iglesias, [Lecture on Advanced NumPy patterns](https://github.com/jni/aspp2015)\n",
    "- Stéfan van der Walt, [Advanced NumPy tutorial](https://python.g-node.org/python-summerschool-2014/numpy.html)\n",
    "- Nicolas Rougier, [100 NumPy exercises](https://github.com/rougier/numpy-100)\n",
    "- Maria Teleńczuk, [Introduction to Data Science in Python](https://github.com/paris-saclay-cds/data-science-workshop-2019/blob/master/Day_1_Scientific_Python/01-numpy-introduction.ipynb)\n"
   ]
  },
  {
   "cell_type": "markdown",
   "metadata": {},
   "source": []
  },
  {
   "cell_type": "code",
   "execution_count": null,
   "metadata": {},
   "outputs": [],
   "source": []
  }
 ],
 "metadata": {
  "kernelspec": {
   "display_name": "Python 3 (ipykernel)",
   "language": "python",
   "name": "python3"
  },
  "language_info": {
   "codemirror_mode": {
    "name": "ipython",
    "version": 3
   },
   "file_extension": ".py",
   "mimetype": "text/x-python",
   "name": "python",
   "nbconvert_exporter": "python",
   "pygments_lexer": "ipython3",
   "version": "3.8.12"
  }
 },
 "nbformat": 4,
 "nbformat_minor": 4
}
